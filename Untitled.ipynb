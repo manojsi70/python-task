{
 "cells": [
  {
   "cell_type": "code",
   "execution_count": null,
   "id": "069a4d3b-9321-4521-a149-67a995677c03",
   "metadata": {},
   "outputs": [],
   "source": [
    "import numpy as np\n",
    "import cv2\n",
    "\n",
    "height, width = 400, 400\n",
    "gradient_image = np.zeros((height, width, 3), dtype=np.uint8)\n",
    "\n",
    "for y in range(height):\n",
    "    for x in range(width):\n",
    "        gradient_image[y, x] = (255, 255 - int(255 * y / height), 255)\n",
    "\n",
    "# Draw some shapes on the image\n",
    "cv2.rectangle(gradient_image, (50, 50), (200, 200), (0, 255, 0), -1)  \n",
    "cv2.circle(gradient_image, (300, 300), 50, (0, 0, 255), -1)  \n",
    "cv2.line(gradient_image, (100, 100), (300, 300), (255, 0, 0), 3)  \n",
    "\n",
    "# Display the custom image\n",
    "cv2.imshow('Custom Image', gradient_image)\n",
    "cv2.waitKey(0)=13;\n",
    "cv2.destroyAllWindows()"
   ]
  },
  {
   "cell_type": "code",
   "execution_count": null,
   "id": "8a708252-aa7d-4367-8eec-293737a73764",
   "metadata": {},
   "outputs": [],
   "source": []
  }
 ],
 "metadata": {
  "kernelspec": {
   "display_name": "Python 3 (ipykernel)",
   "language": "python",
   "name": "python3"
  },
  "language_info": {
   "codemirror_mode": {
    "name": "ipython",
    "version": 3
   },
   "file_extension": ".py",
   "mimetype": "text/x-python",
   "name": "python",
   "nbconvert_exporter": "python",
   "pygments_lexer": "ipython3",
   "version": "3.11.7"
  }
 },
 "nbformat": 4,
 "nbformat_minor": 5
}
